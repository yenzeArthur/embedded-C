{
  "nbformat": 4,
  "nbformat_minor": 0,
  "metadata": {
    "colab": {
      "provenance": [],
      "authorship_tag": "ABX9TyMwvhLwrUDu4LXrrLm+rEZC",
      "include_colab_link": true
    },
    "kernelspec": {
      "name": "python3",
      "display_name": "Python 3"
    },
    "language_info": {
      "name": "python"
    }
  },
  "cells": [
    {
      "cell_type": "markdown",
      "metadata": {
        "id": "view-in-github",
        "colab_type": "text"
      },
      "source": [
        "<a href=\"https://colab.research.google.com/github/yenzeArthur/embedded-C/blob/main/Explained_tensorflowHello.ipynb\" target=\"_parent\"><img src=\"https://colab.research.google.com/assets/colab-badge.svg\" alt=\"Open In Colab\"/></a>"
      ]
    },
    {
      "cell_type": "code",
      "execution_count": null,
      "metadata": {
        "id": "FZcVdpt2kOjy"
      },
      "outputs": [],
      "source": [
        "import tensorflow as tf\n",
        "import numpy as np\n",
        "from tensorflow import keras"
      ]
    },
    {
      "cell_type": "markdown",
      "source": [
        "First, import everything you'll need;\n",
        "tensorflow is the framework.. Import it as tf for ease of use.\n",
        "**numpy** helps represent my data as numbers and lists quickly.\n",
        "then, **keras** is a framework the defines my nueral network as a set of **sequential layers**.\n",
        "\n",
        " Next is the simplest neural network one with only one layer and the input shape to it, only one value:"
      ],
      "metadata": {
        "id": "EgAvaW-uraQZ"
      }
    },
    {
      "cell_type": "code",
      "source": [
        "model = tf.keras.Sequential([keras.layers.Dense(units=1, input_shape=[1])])"
      ],
      "metadata": {
        "id": "rh57U2Jas4yV"
      },
      "execution_count": null,
      "outputs": []
    },
    {
      "cell_type": "markdown",
      "source": [
        "So, its a single layer represented by the keras.layers.Dense( ) code. It has one neuron represented by \"units = 1\" It also takes one value as it's input shape represented by \"input_shape = [1]\""
      ],
      "metadata": {
        "id": "w6540LOUtAhB"
      }
    },
    {
      "cell_type": "code",
      "source": [
        "model.compile(optimizer='sgd', loss='mean_squared_error')"
      ],
      "metadata": {
        "id": "FIqA-Mletx3Q"
      },
      "execution_count": null,
      "outputs": []
    }
  ]
}